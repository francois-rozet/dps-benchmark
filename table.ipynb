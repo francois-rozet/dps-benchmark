{
 "cells": [
  {
   "cell_type": "code",
   "execution_count": 1,
   "metadata": {},
   "outputs": [],
   "source": [
    "import pandas"
   ]
  },
  {
   "cell_type": "code",
   "execution_count": 2,
   "metadata": {},
   "outputs": [],
   "source": [
    "df = pandas.read_csv(\"metrics.csv\", names=[\"basename\", \"seed\", \"i\", \"PSNR\", \"SSIM\", \"LPIPS\"])\n",
    "\n",
    "temp = df[\"basename\"].str.split(\"_\", n=2, expand=True)\n",
    "temp[0] = temp[0] + \" \" + temp[1]\n",
    "temp[2] = temp[2].replace(\"_\", \" \", regex=True).str.upper()\n",
    "temp = temp[[0, 2]]\n",
    "\n",
    "df[[\"task\", \"method\"]] = temp\n",
    "df = df.drop([\"basename\", \"seed\", \"i\"], axis=\"columns\")"
   ]
  },
  {
   "cell_type": "code",
   "execution_count": 3,
   "metadata": {},
   "outputs": [
    {
     "name": "stdout",
     "output_type": "stream",
     "text": [
      "\\begin{tabular}{lllllllllllll}\n",
      "\\toprule\n",
      "task & \\multicolumn{3}{r}{inpainting box} & \\multicolumn{3}{r}{inpainting random} & \\multicolumn{3}{r}{motion deblur} & \\multicolumn{3}{r}{super resolution} \\\\\n",
      " & LPIPS & PSNR & SSIM & LPIPS & PSNR & SSIM & LPIPS & PSNR & SSIM & LPIPS & PSNR & SSIM \\\\\n",
      "method &  &  &  &  &  &  &  &  &  &  &  &  \\\\\n",
      "\\midrule\n",
      "DPS 0100 & 0.38 & 16.97 & 0.51 & 0.39 & 16.84 & 0.50 & 0.30 & 19.84 & 0.58 & 0.35 & 18.40 & 0.55 \\\\\n",
      "DPS 1000 & 0.22 & 21.26 & 0.65 & 0.20 & 21.92 & 0.66 & 0.17 & 22.96 & 0.66 & 0.16 & 25.06 & 0.72 \\\\\n",
      "MMPS 0100 01 & \\textbf{0.19} & \\underline{21.57} & \\textbf{0.68} & 0.19 & 22.20 & 0.69 & 0.20 & 24.00 & 0.71 & 0.15 & \\textbf{27.32} & \\textbf{0.79} \\\\\n",
      "MMPS 0100 05 & \\underline{0.20} & \\textbf{21.65} & \\underline{0.67} & \\underline{0.15} & \\textbf{22.89} & \\textbf{0.72} & \\underline{0.13} & \\textbf{26.74} & \\textbf{0.77} & 0.13 & \\underline{27.11} & \\underline{0.78} \\\\\n",
      "MMPS 1000 01 & \\textbf{0.19} & 21.11 & 0.65 & 0.18 & 21.96 & 0.66 & 0.16 & 23.93 & 0.70 & \\underline{0.12} & 26.97 & 0.77 \\\\\n",
      "MMPS 1000 05 & \\underline{0.20} & 21.30 & 0.65 & \\textbf{0.14} & \\underline{22.55} & 0.69 & \\textbf{0.11} & \\underline{26.26} & 0.75 & \\textbf{0.11} & 26.65 & 0.76 \\\\\n",
      "PGDM 0100 & 0.92 & 14.19 & 0.22 & 0.23 & 21.59 & 0.66 & 0.79 & 17.67 & 0.37 & 0.43 & 22.17 & 0.53 \\\\\n",
      "PGDM 1000 & 0.88 & 13.89 & 0.31 & \\textbf{0.14} & 22.50 & \\underline{0.70} & 0.91 & 16.24 & 0.32 & 0.50 & 21.10 & 0.49 \\\\\n",
      "TMPD 0100 & 0.27 & 20.17 & 0.65 & 0.59 & 10.96 & 0.31 & 0.17 & 26.25 & \\underline{0.76} & 0.17 & 26.77 & 0.77 \\\\\n",
      "TMPD 1000 & 0.25 & 19.79 & 0.62 & 0.66 & 10.30 & 0.25 & \\underline{0.13} & 26.00 & 0.75 & 0.14 & 26.58 & 0.76 \\\\\n",
      "\\bottomrule\n",
      "\\end{tabular}\n",
      "\n"
     ]
    }
   ],
   "source": [
    "mean = df.groupby([\"task\", \"method\"]).mean().reset_index().round(2)\n",
    "mean = mean.pivot(index=\"method\", columns=\"task\", values=[\"PSNR\", \"SSIM\", \"LPIPS\"])\n",
    "\n",
    "rank = mean.rank(method=\"dense\", ascending=False)\n",
    "rank[\"LPIPS\"] = mean[\"LPIPS\"].rank(method=\"dense\")\n",
    "\n",
    "text = mean.map('{:.2f}'.format)\n",
    "bold = r\"\\textbf{\" + text + \"}\"\n",
    "line = r\"\\underline{\" + text + \"}\"\n",
    "\n",
    "text = bold.where(rank == 1, text)\n",
    "text = line.where(rank == 2, text)\n",
    "text = text.swaplevel(0, 1, axis=1).sort_index(axis=1)\n",
    "\n",
    "print(text.to_latex())"
   ]
  }
 ],
 "metadata": {
  "kernelspec": {
   "display_name": "Python 3 (ipykernel)",
   "language": "python",
   "name": "python3"
  },
  "language_info": {
   "codemirror_mode": {
    "name": "ipython",
    "version": 3
   },
   "file_extension": ".py",
   "mimetype": "text/x-python",
   "name": "python",
   "nbconvert_exporter": "python",
   "pygments_lexer": "ipython3",
   "version": "3.9.18"
  }
 },
 "nbformat": 4,
 "nbformat_minor": 4
}
